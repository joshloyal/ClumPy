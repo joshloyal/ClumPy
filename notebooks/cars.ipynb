{
 "cells": [
  {
   "cell_type": "code",
   "execution_count": 474,
   "metadata": {
    "collapsed": false,
    "scrolled": true
   },
   "outputs": [
    {
     "name": "stdout",
     "output_type": "stream",
     "text": [
      "The autoreload extension is already loaded. To reload it, use:\n",
      "  %reload_ext autoreload\n"
     ]
    }
   ],
   "source": [
    "%load_ext autoreload\n",
    "%autoreload 2"
   ]
  },
  {
   "cell_type": "code",
   "execution_count": 475,
   "metadata": {
    "collapsed": false
   },
   "outputs": [],
   "source": [
    "%matplotlib inline\n",
    "import seaborn as sns\n",
    "import matplotlib.pyplot as plt\n",
    "\n",
    "sns.set_context('poster')\n",
    "sns.set_color_codes()\n",
    "sns.set_style('white')"
   ]
  },
  {
   "cell_type": "code",
   "execution_count": 476,
   "metadata": {
    "collapsed": false
   },
   "outputs": [
    {
     "data": {
      "text/html": [
       "<div>\n",
       "<table border=\"1\" class=\"dataframe\">\n",
       "  <thead>\n",
       "    <tr style=\"text-align: right;\">\n",
       "      <th></th>\n",
       "      <th>economy (mpg)</th>\n",
       "      <th>cylinders</th>\n",
       "      <th>displacement (cc)</th>\n",
       "      <th>power (hp)</th>\n",
       "      <th>weight (lb)</th>\n",
       "      <th>0-60 mph (s)</th>\n",
       "      <th>year</th>\n",
       "    </tr>\n",
       "  </thead>\n",
       "  <tbody>\n",
       "    <tr>\n",
       "      <th>0</th>\n",
       "      <td>13.0</td>\n",
       "      <td>8</td>\n",
       "      <td>360.0</td>\n",
       "      <td>175.0</td>\n",
       "      <td>3821</td>\n",
       "      <td>11.0</td>\n",
       "      <td>73</td>\n",
       "    </tr>\n",
       "    <tr>\n",
       "      <th>1</th>\n",
       "      <td>15.0</td>\n",
       "      <td>8</td>\n",
       "      <td>390.0</td>\n",
       "      <td>190.0</td>\n",
       "      <td>3850</td>\n",
       "      <td>8.5</td>\n",
       "      <td>70</td>\n",
       "    </tr>\n",
       "    <tr>\n",
       "      <th>2</th>\n",
       "      <td>17.0</td>\n",
       "      <td>8</td>\n",
       "      <td>304.0</td>\n",
       "      <td>150.0</td>\n",
       "      <td>3672</td>\n",
       "      <td>11.5</td>\n",
       "      <td>72</td>\n",
       "    </tr>\n",
       "    <tr>\n",
       "      <th>3</th>\n",
       "      <td>20.2</td>\n",
       "      <td>6</td>\n",
       "      <td>232.0</td>\n",
       "      <td>90.0</td>\n",
       "      <td>3265</td>\n",
       "      <td>18.2</td>\n",
       "      <td>79</td>\n",
       "    </tr>\n",
       "    <tr>\n",
       "      <th>4</th>\n",
       "      <td>18.1</td>\n",
       "      <td>6</td>\n",
       "      <td>258.0</td>\n",
       "      <td>120.0</td>\n",
       "      <td>3410</td>\n",
       "      <td>15.1</td>\n",
       "      <td>78</td>\n",
       "    </tr>\n",
       "    <tr>\n",
       "      <th>5</th>\n",
       "      <td>23.0</td>\n",
       "      <td>4</td>\n",
       "      <td>151.0</td>\n",
       "      <td>NaN</td>\n",
       "      <td>3035</td>\n",
       "      <td>20.5</td>\n",
       "      <td>82</td>\n",
       "    </tr>\n",
       "    <tr>\n",
       "      <th>6</th>\n",
       "      <td>19.4</td>\n",
       "      <td>6</td>\n",
       "      <td>232.0</td>\n",
       "      <td>90.0</td>\n",
       "      <td>3210</td>\n",
       "      <td>17.2</td>\n",
       "      <td>78</td>\n",
       "    </tr>\n",
       "    <tr>\n",
       "      <th>7</th>\n",
       "      <td>24.3</td>\n",
       "      <td>4</td>\n",
       "      <td>151.0</td>\n",
       "      <td>90.0</td>\n",
       "      <td>3003</td>\n",
       "      <td>20.1</td>\n",
       "      <td>80</td>\n",
       "    </tr>\n",
       "    <tr>\n",
       "      <th>8</th>\n",
       "      <td>18.0</td>\n",
       "      <td>6</td>\n",
       "      <td>232.0</td>\n",
       "      <td>100.0</td>\n",
       "      <td>2789</td>\n",
       "      <td>15.0</td>\n",
       "      <td>73</td>\n",
       "    </tr>\n",
       "    <tr>\n",
       "      <th>9</th>\n",
       "      <td>19.0</td>\n",
       "      <td>6</td>\n",
       "      <td>232.0</td>\n",
       "      <td>100.0</td>\n",
       "      <td>2634</td>\n",
       "      <td>13.0</td>\n",
       "      <td>71</td>\n",
       "    </tr>\n",
       "  </tbody>\n",
       "</table>\n",
       "</div>"
      ],
      "text/plain": [
       "   economy (mpg)  cylinders  displacement (cc)  power (hp)  weight (lb)  \\\n",
       "0           13.0          8              360.0       175.0         3821   \n",
       "1           15.0          8              390.0       190.0         3850   \n",
       "2           17.0          8              304.0       150.0         3672   \n",
       "3           20.2          6              232.0        90.0         3265   \n",
       "4           18.1          6              258.0       120.0         3410   \n",
       "5           23.0          4              151.0         NaN         3035   \n",
       "6           19.4          6              232.0        90.0         3210   \n",
       "7           24.3          4              151.0        90.0         3003   \n",
       "8           18.0          6              232.0       100.0         2789   \n",
       "9           19.0          6              232.0       100.0         2634   \n",
       "\n",
       "   0-60 mph (s)  year  \n",
       "0          11.0    73  \n",
       "1           8.5    70  \n",
       "2          11.5    72  \n",
       "3          18.2    79  \n",
       "4          15.1    78  \n",
       "5          20.5    82  \n",
       "6          17.2    78  \n",
       "7          20.1    80  \n",
       "8          15.0    73  \n",
       "9          13.0    71  "
      ]
     },
     "execution_count": 476,
     "metadata": {},
     "output_type": "execute_result"
    }
   ],
   "source": [
    "from clumpy.datasets import fetch_cars\n",
    "dataset = fetch_cars()\n",
    "dataset.drop(['name'], axis=1, inplace=True)\n",
    "dataset.head(10)"
   ]
  },
  {
   "cell_type": "code",
   "execution_count": 477,
   "metadata": {
    "collapsed": false
   },
   "outputs": [
    {
     "data": {
      "text/html": [
       "<div>\n",
       "<table border=\"1\" class=\"dataframe\">\n",
       "  <thead>\n",
       "    <tr style=\"text-align: right;\">\n",
       "      <th></th>\n",
       "      <th>economy (mpg)</th>\n",
       "      <th>cylinders</th>\n",
       "      <th>displacement (cc)</th>\n",
       "      <th>power (hp)</th>\n",
       "      <th>weight (lb)</th>\n",
       "      <th>0-60 mph (s)</th>\n",
       "      <th>year</th>\n",
       "    </tr>\n",
       "  </thead>\n",
       "  <tbody>\n",
       "    <tr>\n",
       "      <th>0</th>\n",
       "      <td>0.106383</td>\n",
       "      <td>1.0</td>\n",
       "      <td>0.754522</td>\n",
       "      <td>0.701087</td>\n",
       "      <td>0.626028</td>\n",
       "      <td>0.178571</td>\n",
       "      <td>0.250000</td>\n",
       "    </tr>\n",
       "    <tr>\n",
       "      <th>1</th>\n",
       "      <td>0.159574</td>\n",
       "      <td>1.0</td>\n",
       "      <td>0.832041</td>\n",
       "      <td>0.782609</td>\n",
       "      <td>0.634250</td>\n",
       "      <td>0.029762</td>\n",
       "      <td>0.000000</td>\n",
       "    </tr>\n",
       "    <tr>\n",
       "      <th>2</th>\n",
       "      <td>0.212766</td>\n",
       "      <td>1.0</td>\n",
       "      <td>0.609819</td>\n",
       "      <td>0.565217</td>\n",
       "      <td>0.583782</td>\n",
       "      <td>0.208333</td>\n",
       "      <td>0.166667</td>\n",
       "    </tr>\n",
       "    <tr>\n",
       "      <th>3</th>\n",
       "      <td>0.297872</td>\n",
       "      <td>0.6</td>\n",
       "      <td>0.423773</td>\n",
       "      <td>0.239130</td>\n",
       "      <td>0.468387</td>\n",
       "      <td>0.607143</td>\n",
       "      <td>0.750000</td>\n",
       "    </tr>\n",
       "    <tr>\n",
       "      <th>4</th>\n",
       "      <td>0.242021</td>\n",
       "      <td>0.6</td>\n",
       "      <td>0.490956</td>\n",
       "      <td>0.402174</td>\n",
       "      <td>0.509498</td>\n",
       "      <td>0.422619</td>\n",
       "      <td>0.666667</td>\n",
       "    </tr>\n",
       "    <tr>\n",
       "      <th>5</th>\n",
       "      <td>0.372340</td>\n",
       "      <td>0.2</td>\n",
       "      <td>0.214470</td>\n",
       "      <td>0.258152</td>\n",
       "      <td>0.403176</td>\n",
       "      <td>0.744048</td>\n",
       "      <td>1.000000</td>\n",
       "    </tr>\n",
       "    <tr>\n",
       "      <th>6</th>\n",
       "      <td>0.276596</td>\n",
       "      <td>0.6</td>\n",
       "      <td>0.423773</td>\n",
       "      <td>0.239130</td>\n",
       "      <td>0.452793</td>\n",
       "      <td>0.547619</td>\n",
       "      <td>0.666667</td>\n",
       "    </tr>\n",
       "    <tr>\n",
       "      <th>7</th>\n",
       "      <td>0.406915</td>\n",
       "      <td>0.2</td>\n",
       "      <td>0.214470</td>\n",
       "      <td>0.239130</td>\n",
       "      <td>0.394103</td>\n",
       "      <td>0.720238</td>\n",
       "      <td>0.833333</td>\n",
       "    </tr>\n",
       "    <tr>\n",
       "      <th>8</th>\n",
       "      <td>0.239362</td>\n",
       "      <td>0.6</td>\n",
       "      <td>0.423773</td>\n",
       "      <td>0.293478</td>\n",
       "      <td>0.333428</td>\n",
       "      <td>0.416667</td>\n",
       "      <td>0.250000</td>\n",
       "    </tr>\n",
       "    <tr>\n",
       "      <th>9</th>\n",
       "      <td>0.265957</td>\n",
       "      <td>0.6</td>\n",
       "      <td>0.423773</td>\n",
       "      <td>0.293478</td>\n",
       "      <td>0.289481</td>\n",
       "      <td>0.297619</td>\n",
       "      <td>0.083333</td>\n",
       "    </tr>\n",
       "  </tbody>\n",
       "</table>\n",
       "</div>"
      ],
      "text/plain": [
       "   economy (mpg)  cylinders  displacement (cc)  power (hp)  weight (lb)  \\\n",
       "0       0.106383        1.0           0.754522    0.701087     0.626028   \n",
       "1       0.159574        1.0           0.832041    0.782609     0.634250   \n",
       "2       0.212766        1.0           0.609819    0.565217     0.583782   \n",
       "3       0.297872        0.6           0.423773    0.239130     0.468387   \n",
       "4       0.242021        0.6           0.490956    0.402174     0.509498   \n",
       "5       0.372340        0.2           0.214470    0.258152     0.403176   \n",
       "6       0.276596        0.6           0.423773    0.239130     0.452793   \n",
       "7       0.406915        0.2           0.214470    0.239130     0.394103   \n",
       "8       0.239362        0.6           0.423773    0.293478     0.333428   \n",
       "9       0.265957        0.6           0.423773    0.293478     0.289481   \n",
       "\n",
       "   0-60 mph (s)      year  \n",
       "0      0.178571  0.250000  \n",
       "1      0.029762  0.000000  \n",
       "2      0.208333  0.166667  \n",
       "3      0.607143  0.750000  \n",
       "4      0.422619  0.666667  \n",
       "5      0.744048  1.000000  \n",
       "6      0.547619  0.666667  \n",
       "7      0.720238  0.833333  \n",
       "8      0.416667  0.250000  \n",
       "9      0.297619  0.083333  "
      ]
     },
     "execution_count": 477,
     "metadata": {},
     "output_type": "execute_result"
    }
   ],
   "source": [
    "from sklearn.preprocessing import StandardScaler, MinMaxScaler, Imputer\n",
    "imputed_data = dataset.copy()\n",
    "processed_data = dataset.copy()\n",
    "\n",
    "numeric_cols = ['economy (mpg)', 'displacement (cc)', 'power (hp)', 'weight (lb)', '0-60 mph (s)']\n",
    "ordinal_cols = ['cylinders', 'year']\n",
    "\n",
    "imputed_data[numeric_cols] = Imputer(strategy='median').fit_transform(imputed_data[numeric_cols])\n",
    "imputed_data[ordinal_cols] = Imputer(strategy='median').fit_transform(imputed_data[ordinal_cols])\n",
    "\n",
    "processed_data[numeric_cols] = MinMaxScaler().fit_transform(imputed_data[numeric_cols])\n",
    "processed_data[ordinal_cols] = MinMaxScaler().fit_transform(imputed_data[ordinal_cols])\n",
    "\n",
    "processed_data.head(10)"
   ]
  },
  {
   "cell_type": "code",
   "execution_count": 478,
   "metadata": {
    "collapsed": true
   },
   "outputs": [],
   "source": [
    "from clumpy import auto_kmeans\n",
    "kmeans = auto_kmeans(processed_data.values, n_clusters=[3, 4, 5])"
   ]
  },
  {
   "cell_type": "code",
   "execution_count": 479,
   "metadata": {
    "collapsed": false
   },
   "outputs": [
    {
     "data": {
      "text/plain": [
       "4"
      ]
     },
     "execution_count": 479,
     "metadata": {},
     "output_type": "execute_result"
    }
   ],
   "source": [
    "kmeans.n_clusters"
   ]
  },
  {
   "cell_type": "code",
   "execution_count": 480,
   "metadata": {
    "collapsed": false
   },
   "outputs": [],
   "source": [
    "from clumpy.cluster_rules import tree_descriptions\n",
    "rules = tree_descriptions(imputed_data.copy().values, \n",
    "                  kmeans.labels_, \n",
    "                  feature_names=imputed_data.columns.tolist(),\n",
    "                  max_depth=20,\n",
    "                  n_features=None)"
   ]
  },
  {
   "cell_type": "code",
   "execution_count": 481,
   "metadata": {
    "collapsed": false
   },
   "outputs": [
    {
     "name": "stdout",
     "output_type": "stream",
     "text": [
      "displacement (cc) > 284.5 AND\n",
      "economy (mpg) <= 21.6 \n",
      "\n",
      "displacement (cc) <= 140.5 AND\n",
      "year <= 76.5 \n",
      "\n",
      "economy (mpg) > 26.9 AND\n",
      "power (hp) <= 110.0 AND\n",
      "year > 76.5 \n",
      "\n",
      "cylinders > 4.5 AND\n",
      "displacement (cc) <= 284.5 AND\n",
      "economy (mpg) <= 29.75 \n",
      "\n"
     ]
    }
   ],
   "source": [
    "for rule in rules:\n",
    "    print(rule)\n",
    "    print"
   ]
  },
  {
   "cell_type": "code",
   "execution_count": 482,
   "metadata": {
    "collapsed": false
   },
   "outputs": [
    {
     "data": {
      "image/png": "[encoded data removed]",
      "text/plain": [
       "<matplotlib.figure.Figure at 0x2184f810>"
      ]
     },
     "metadata": {},
     "output_type": "display_data"
    }
   ],
   "source": [
    "from clumpy.plots import quant_plot\n",
    "#quant_plot('power (hp)', kmeans.labels_, 0, imputed_data)\n",
    "plot_cluster_statistics(\n",
    "    cluster_labels=kmeans.labels_, \n",
    "    cluster_id=3, \n",
    "    data=imputed_data, scale=True,\n",
    "    quant_var=['weight (lb)', 'power (hp)', 'economy (mpg)', 'displacement (cc)', '0-60 mph (s)'],\n",
    "    qual_var=['year', 'cylinders'],\n",
    "    figsize=(15,10))"
   ]
  }
 ],
 "metadata": {
  "kernelspec": {
   "display_name": "Python 2",
   "language": "python",
   "name": "python2"
  },
  "language_info": {
   "codemirror_mode": {
    "name": "ipython",
    "version": 2
   },
   "file_extension": ".py",
   "mimetype": "text/x-python",
   "name": "python",
   "nbconvert_exporter": "python",
   "pygments_lexer": "ipython2",
   "version": "2.7.3"
  }
 },
 "nbformat": 4,
 "nbformat_minor": 0
}
