{
 "cells": [
  {
   "cell_type": "code",
   "execution_count": 1,
   "metadata": {
    "collapsed": false,
    "scrolled": true
   },
   "outputs": [],
   "source": [
    "%load_ext autoreload\n",
    "%autoreload 2"
   ]
  },
  {
   "cell_type": "code",
   "execution_count": 2,
   "metadata": {
    "collapsed": false
   },
   "outputs": [],
   "source": [
    "%matplotlib inline\n",
    "import seaborn as sns\n",
    "import matplotlib.pyplot as plt\n",
    "\n",
    "sns.set_context('poster')\n",
    "sns.set_color_codes()\n",
    "sns.set_style('white')"
   ]
  },
  {
   "cell_type": "code",
   "execution_count": 3,
   "metadata": {
    "collapsed": false
   },
   "outputs": [
    {
     "name": "stderr",
     "output_type": "stream",
     "text": [
      "/home/joshua/workspace/scikit-learn/sklearn/cross_validation.py:43: DeprecationWarning: This module was deprecated in version 0.18 in favor of the model_selection module into which all the refactored classes and functions are moved. Also note that the interface of the new CV iterators are different from that of this module. This module will be removed in 0.20.\n",
      "  \"This module will be removed in 0.20.\", DeprecationWarning)\n",
      "/home/joshua/workspace/scikit-learn/sklearn/grid_search.py:43: DeprecationWarning: This module was deprecated in version 0.18 in favor of the model_selection module into which all the refactored classes and functions are moved. This module will be removed in 0.20.\n",
      "  DeprecationWarning)\n"
     ]
    },
    {
     "data": {
      "text/html": [
       "<div>\n",
       "<table border=\"1\" class=\"dataframe\">\n",
       "  <thead>\n",
       "    <tr style=\"text-align: right;\">\n",
       "      <th></th>\n",
       "      <th>economy (mpg)</th>\n",
       "      <th>cylinders</th>\n",
       "      <th>displacement (cc)</th>\n",
       "      <th>power (hp)</th>\n",
       "      <th>weight (lb)</th>\n",
       "      <th>0-60 mph (s)</th>\n",
       "      <th>year</th>\n",
       "    </tr>\n",
       "  </thead>\n",
       "  <tbody>\n",
       "    <tr>\n",
       "      <th>0</th>\n",
       "      <td>13.0</td>\n",
       "      <td>8</td>\n",
       "      <td>360.0</td>\n",
       "      <td>175.0</td>\n",
       "      <td>3821</td>\n",
       "      <td>11.0</td>\n",
       "      <td>73</td>\n",
       "    </tr>\n",
       "    <tr>\n",
       "      <th>1</th>\n",
       "      <td>15.0</td>\n",
       "      <td>8</td>\n",
       "      <td>390.0</td>\n",
       "      <td>190.0</td>\n",
       "      <td>3850</td>\n",
       "      <td>8.5</td>\n",
       "      <td>70</td>\n",
       "    </tr>\n",
       "    <tr>\n",
       "      <th>2</th>\n",
       "      <td>17.0</td>\n",
       "      <td>8</td>\n",
       "      <td>304.0</td>\n",
       "      <td>150.0</td>\n",
       "      <td>3672</td>\n",
       "      <td>11.5</td>\n",
       "      <td>72</td>\n",
       "    </tr>\n",
       "    <tr>\n",
       "      <th>3</th>\n",
       "      <td>20.2</td>\n",
       "      <td>6</td>\n",
       "      <td>232.0</td>\n",
       "      <td>90.0</td>\n",
       "      <td>3265</td>\n",
       "      <td>18.2</td>\n",
       "      <td>79</td>\n",
       "    </tr>\n",
       "    <tr>\n",
       "      <th>4</th>\n",
       "      <td>18.1</td>\n",
       "      <td>6</td>\n",
       "      <td>258.0</td>\n",
       "      <td>120.0</td>\n",
       "      <td>3410</td>\n",
       "      <td>15.1</td>\n",
       "      <td>78</td>\n",
       "    </tr>\n",
       "    <tr>\n",
       "      <th>5</th>\n",
       "      <td>23.0</td>\n",
       "      <td>4</td>\n",
       "      <td>151.0</td>\n",
       "      <td>NaN</td>\n",
       "      <td>3035</td>\n",
       "      <td>20.5</td>\n",
       "      <td>82</td>\n",
       "    </tr>\n",
       "    <tr>\n",
       "      <th>6</th>\n",
       "      <td>19.4</td>\n",
       "      <td>6</td>\n",
       "      <td>232.0</td>\n",
       "      <td>90.0</td>\n",
       "      <td>3210</td>\n",
       "      <td>17.2</td>\n",
       "      <td>78</td>\n",
       "    </tr>\n",
       "    <tr>\n",
       "      <th>7</th>\n",
       "      <td>24.3</td>\n",
       "      <td>4</td>\n",
       "      <td>151.0</td>\n",
       "      <td>90.0</td>\n",
       "      <td>3003</td>\n",
       "      <td>20.1</td>\n",
       "      <td>80</td>\n",
       "    </tr>\n",
       "    <tr>\n",
       "      <th>8</th>\n",
       "      <td>18.0</td>\n",
       "      <td>6</td>\n",
       "      <td>232.0</td>\n",
       "      <td>100.0</td>\n",
       "      <td>2789</td>\n",
       "      <td>15.0</td>\n",
       "      <td>73</td>\n",
       "    </tr>\n",
       "    <tr>\n",
       "      <th>9</th>\n",
       "      <td>19.0</td>\n",
       "      <td>6</td>\n",
       "      <td>232.0</td>\n",
       "      <td>100.0</td>\n",
       "      <td>2634</td>\n",
       "      <td>13.0</td>\n",
       "      <td>71</td>\n",
       "    </tr>\n",
       "  </tbody>\n",
       "</table>\n",
       "</div>"
      ],
      "text/plain": [
       "   economy (mpg)  cylinders  displacement (cc)  power (hp)  weight (lb)  \\\n",
       "0           13.0          8              360.0       175.0         3821   \n",
       "1           15.0          8              390.0       190.0         3850   \n",
       "2           17.0          8              304.0       150.0         3672   \n",
       "3           20.2          6              232.0        90.0         3265   \n",
       "4           18.1          6              258.0       120.0         3410   \n",
       "5           23.0          4              151.0         NaN         3035   \n",
       "6           19.4          6              232.0        90.0         3210   \n",
       "7           24.3          4              151.0        90.0         3003   \n",
       "8           18.0          6              232.0       100.0         2789   \n",
       "9           19.0          6              232.0       100.0         2634   \n",
       "\n",
       "   0-60 mph (s)  year  \n",
       "0          11.0    73  \n",
       "1           8.5    70  \n",
       "2          11.5    72  \n",
       "3          18.2    79  \n",
       "4          15.1    78  \n",
       "5          20.5    82  \n",
       "6          17.2    78  \n",
       "7          20.1    80  \n",
       "8          15.0    73  \n",
       "9          13.0    71  "
      ]
     },
     "execution_count": 3,
     "metadata": {},
     "output_type": "execute_result"
    }
   ],
   "source": [
    "from clumpy.datasets import fetch_cars\n",
    "data = fetch_cars()\n",
    "data.drop(['name'], axis=1, inplace=True)\n",
    "data.head(10)"
   ]
  },
  {
   "cell_type": "code",
   "execution_count": 4,
   "metadata": {
    "collapsed": false
   },
   "outputs": [],
   "source": [
    "from clumpy.preprocessing import process_data\n",
    "\n",
    "numeric_cols = ['economy (mpg)', 'displacement (cc)', 'power (hp)', 'weight (lb)', '0-60 mph (s)']\n",
    "ordinal_cols = ['cylinders', 'year']\n",
    "columns = numeric_cols + ordinal_cols\n",
    "\n",
    "X = process_data(data[columns], impute='mean', num_preprocessing='minmax')"
   ]
  },
  {
   "cell_type": "code",
   "execution_count": 5,
   "metadata": {
    "collapsed": true
   },
   "outputs": [],
   "source": [
    "from clumpy import auto_kmeans\n",
    "kmeans = auto_kmeans(X, n_clusters=[3, 4, 5])"
   ]
  },
  {
   "cell_type": "code",
   "execution_count": 6,
   "metadata": {
    "collapsed": false
   },
   "outputs": [
    {
     "data": {
      "text/plain": [
       "4"
      ]
     },
     "execution_count": 6,
     "metadata": {},
     "output_type": "execute_result"
    }
   ],
   "source": [
    "kmeans.n_clusters"
   ]
  },
  {
   "cell_type": "code",
   "execution_count": 61,
   "metadata": {
    "collapsed": false
   },
   "outputs": [],
   "source": [
    "from clumpy.rules import tree_descriptions\n",
    "\n",
    "rules = tree_descriptions(data[columns], \n",
    "                  kmeans.labels_, \n",
    "                  feature_names=columns,\n",
    "                  max_depth=20,\n",
    "                  n_features=5)"
   ]
  },
  {
   "cell_type": "code",
   "execution_count": 60,
   "metadata": {
    "collapsed": false
   },
   "outputs": [
    {
     "name": "stdout",
     "output_type": "stream",
     "text": [
      "displacement (cc) <= 140.5 AND\n",
      "year <= 76.5 \n",
      "\n",
      "displacement (cc) > 284.5 AND\n",
      "economy (mpg) <= 21.6 \n",
      "\n",
      "cylinders > 4.5 AND\n",
      "displacement (cc) <= 284.5 AND\n",
      "economy (mpg) <= 29.75 \n",
      "\n",
      "displacement (cc) <= 162.0 AND\n",
      "economy (mpg) > 26.9 AND\n",
      "year > 76.5 \n",
      "\n"
     ]
    }
   ],
   "source": [
    "for rule in rules:\n",
    "    print(rule)\n",
    "    print"
   ]
  },
  {
   "cell_type": "code",
   "execution_count": 58,
   "metadata": {
    "collapsed": false
   },
   "outputs": [
    {
     "name": "stdout",
     "output_type": "stream",
     "text": [
      "   displacement (cc)  power (hp)  0-60 mph (s)  cylinders       year        id\n",
      "0         193.425879  104.469388     15.568090   5.454774  76.010050  marginal\n",
      "0         106.405263   81.563830     16.524211   3.968421  73.484211   cluster\n"
     ]
    },
    {
     "data": {
      "image/png": "[encoded data removed]",
      "text/plain": [
       "<matplotlib.figure.Figure at 0x7ed0190>"
      ]
     },
     "metadata": {},
     "output_type": "display_data"
    }
   ],
   "source": [
    "from clumpy import importance\n",
    "from clumpy.plots import plot_cluster_statistics\n",
    "\n",
    "X = process_data(data)\n",
    "importances = importance.anova_importance(X, kmeans.labels_, feature_names=columns, n_features=5)\n",
    "\n",
    "cluster_id = 0\n",
    "cluster_importances = importances[cluster_id]\n",
    "cat_vars = [var for var in cluster_importances if var in ordinal_cols]\n",
    "num_vars = [var for var in cluster_importances if var in columns]\n",
    "\n",
    "plot_cluster_statistics(\n",
    "    cluster_labels=kmeans.labels_, \n",
    "    cluster_id=cluster_id, \n",
    "    data=data, \n",
    "    scale=True,\n",
    "    quant_var=num_vars,\n",
    "    qual_var=cat_vars,\n",
    "    figsize=(15,10))"
   ]
  },
  {
   "cell_type": "code",
   "execution_count": null,
   "metadata": {
    "collapsed": true
   },
   "outputs": [],
   "source": []
  }
 ],
 "metadata": {
  "kernelspec": {
   "display_name": "Python 2",
   "language": "python",
   "name": "python2"
  },
  "language_info": {
   "codemirror_mode": {
    "name": "ipython",
    "version": 2
   },
   "file_extension": ".py",
   "mimetype": "text/x-python",
   "name": "python",
   "nbconvert_exporter": "python",
   "pygments_lexer": "ipython2",
   "version": "2.7.3"
  }
 },
 "nbformat": 4,
 "nbformat_minor": 0
}
